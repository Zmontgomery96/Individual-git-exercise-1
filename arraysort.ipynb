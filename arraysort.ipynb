{
 "cells": [
  {
   "cell_type": "code",
<<<<<<< HEAD
<<<<<<< HEAD
   "execution_count": 7,
=======
   "execution_count": 9,
>>>>>>> integer-sorting
=======
   "execution_count": 10,
>>>>>>> string-sorting
   "metadata": {},
   "outputs": [
    {
     "data": {
      "text/plain": [
<<<<<<< HEAD
       "array([1, 2, 3, 4, 5])"
      ]
     },
<<<<<<< HEAD
     "execution_count": 7,
=======
     "execution_count": 9,
>>>>>>> integer-sorting
=======
       "array(['a', 'b', 'c', 'd', 'e'], dtype='<U1')"
      ]
     },
     "execution_count": 10,
>>>>>>> string-sorting
     "metadata": {},
     "output_type": "execute_result"
    }
   ],
   "source": [
    "import numpy as np\n",
    "\n",
    "numbers = np.array([2,4,1,3,5])\n",
<<<<<<< HEAD
<<<<<<< HEAD
    "letters = [\"e\",\"b\",\"c\",\"d\",\"a\"]\n",
    "\n",
    "# for x in numbers:\n",
    "#     print(x)"
=======
=======
>>>>>>> string-sorting
    "letters = np.array([\"e\",\"b\",\"c\",\"d\",\"a\"])\n",
    "\n",
    "# for x in numbers:\n",
    "#     print(x)\n",
    "\n",
    "#added in integer sort\n",
<<<<<<< HEAD
    "np.sort(numbers)"
>>>>>>> integer-sorting
=======
    "np.sort(numbers)\n",
    "\n",
    "#added string sort\n",
    "np.sort(letters)"
>>>>>>> string-sorting
   ]
  },
  {
   "cell_type": "code",
   "execution_count": null,
   "metadata": {},
   "outputs": [],
   "source": []
  }
 ],
 "metadata": {
  "kernelspec": {
   "display_name": "Python 3",
   "language": "python",
   "name": "python3"
  },
  "language_info": {
   "codemirror_mode": {
    "name": "ipython",
    "version": 3
   },
   "file_extension": ".py",
   "mimetype": "text/x-python",
   "name": "python",
   "nbconvert_exporter": "python",
   "pygments_lexer": "ipython3",
   "version": "3.8.3"
  }
 },
 "nbformat": 4,
 "nbformat_minor": 4
}
