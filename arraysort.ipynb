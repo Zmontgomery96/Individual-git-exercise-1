{
 "cells": [
  {
   "cell_type": "code",
   "execution_count": 27,
   "metadata": {},
   "outputs": [
    {
     "data": {
      "text/plain": [
       "array(['1', '2', '3', '4', '5', 'a', 'b', 'c', 'd', 'e'], dtype='<U21')"
      ]
     },
     "execution_count": 27,
     "metadata": {},
     "output_type": "execute_result"
    }
   ],
   "source": [
    "import numpy as np\n",
    "\n",
    "numbers = np.array([2,4,1,3,5])\n",
    "letters = np.array([\"e\",\"b\",\"c\",\"d\",\"a\"])\n",
    "\n",
    "# for x in numbers:\n",
    "#     print(x)\n",
    "\n",
    "#added in integer sort\n",
    "np.sort(numbers)\n",
    "\n",
    "#added string sort\n",
    "np.sort(letters)\n",
    "\n",
    "#the arrays sorted and combined\n",
    "combined = np.append(numbers, letters)\n",
    "np.sort(combined)"
   ]
  },
  {
   "cell_type": "code",
   "execution_count": null,
   "metadata": {},
   "outputs": [],
   "source": []
  },
  {
   "cell_type": "code",
   "execution_count": null,
   "metadata": {},
   "outputs": [],
   "source": []
  }
 ],
 "metadata": {
  "kernelspec": {
   "display_name": "Python 3",
   "language": "python",
   "name": "python3"
  },
  "language_info": {
   "codemirror_mode": {
    "name": "ipython",
    "version": 3
   },
   "file_extension": ".py",
   "mimetype": "text/x-python",
   "name": "python",
   "nbconvert_exporter": "python",
   "pygments_lexer": "ipython3",
   "version": "3.8.3"
  }
 },
 "nbformat": 4,
 "nbformat_minor": 4
}
